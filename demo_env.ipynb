{
 "cells": [
  {
   "cell_type": "code",
   "execution_count": 3,
   "metadata": {},
   "outputs": [],
   "source": [
    "import numpy as np\n",
    "import gymnasium as gym\n",
    "import matrix_mdp\n",
    "from tensorflow.sparse import SparseTensor as sparse"
   ]
  },
  {
   "cell_type": "markdown",
   "metadata": {},
   "source": [
    "### set param (default)\n",
    "n_states = 4\n",
    "\n",
    "n_actions = 2\n",
    "\n",
    "p_0 = np.ones((n_states, )) / n_states\n",
    "\n",
    "r = np.ones((n_states, n_states, n_actions))\n",
    "\n",
    "p = np.ones((n_states, n_states, n_actions)) / n_states"
   ]
  },
  {
   "cell_type": "code",
   "execution_count": null,
   "metadata": {},
   "outputs": [],
   "source": [
    "n_states = 6 # states cardinality: walkable cells\n",
    "n_actions = 4 # actions cardinality: up, down, left, right\n",
    "\n",
    "p_0 = np.ones((n_states, )) / n_states # prior distribution\n",
    "p = sparse(indices=[(0,0,0)], values=[0], dense_shape=(n_states, n_states, n_actions)) # transition probability\n",
    "r = sparse(indices=[(0,0,0)], values=[0], dense_shape=(n_states, n_states, n_actions)) # reward function"
   ]
  },
  {
   "cell_type": "code",
   "execution_count": null,
   "metadata": {},
   "outputs": [],
   "source": [
    "p"
   ]
  },
  {
   "cell_type": "markdown",
   "metadata": {},
   "source": [
    "### maze"
   ]
  },
  {
   "cell_type": "code",
   "execution_count": null,
   "metadata": {},
   "outputs": [],
   "source": [
    "from src.maze import Maze\n",
    "import pygame\n",
    "\n",
    "# parameters\n",
    "size_x = 4 # maze width\n",
    "size_y = 3 # maze height\n",
    "disp_size = (800, 600) # display size (pixels)\n",
    "block_size = 10  # block size in pixels\n",
    "screen = pygame.display.set_mode(disp_size)\n",
    "\n",
    "# initialize maze\n",
    "maze = Maze(size_x=size_x, size_y=size_y)\n",
    "\n",
    "# visualize settings\n",
    "maze.screen = screen\n",
    "screen.fill((0, 0, 0))\n",
    "maze.screen_size = np.asarray(disp_size)\n",
    "maze.screen_block_size = np.min(disp_size / np.asarray((size_x, size_y)))\n",
    "maze.screen_block_offset = (disp_size - maze.screen_block_size * np.flip(maze.block_size)) // 2\n",
    "\n",
    "# generate maze\n",
    "maze.gen_maze_2D() # + maze.gen_maze_walls()\n",
    "display(maze.block_size)\n",
    "display(maze.wall_size)\n",
    "display(maze.walls.shape)"
   ]
  },
  {
   "cell_type": "code",
   "execution_count": 2,
   "metadata": {},
   "outputs": [
    {
     "ename": "NameError",
     "evalue": "name 'pygame' is not defined",
     "output_type": "error",
     "traceback": [
      "\u001b[1;31m---------------------------------------------------------------------------\u001b[0m",
      "\u001b[1;31mNameError\u001b[0m                                 Traceback (most recent call last)",
      "\u001b[1;32mc:\\Documenti\\VS_Code\\uni\\AGT\\stackelberg_MBRL\\demo_env.ipynb Cell 7\u001b[0m line \u001b[0;36m5\n\u001b[0;32m      <a href='vscode-notebook-cell:/c%3A/Documenti/VS_Code/uni/AGT/stackelberg_MBRL/demo_env.ipynb#X21sZmlsZQ%3D%3D?line=0'>1</a>\u001b[0m running \u001b[39m=\u001b[39m \u001b[39mTrue\u001b[39;00m\n\u001b[0;32m      <a href='vscode-notebook-cell:/c%3A/Documenti/VS_Code/uni/AGT/stackelberg_MBRL/demo_env.ipynb#X21sZmlsZQ%3D%3D?line=2'>3</a>\u001b[0m \u001b[39mwhile\u001b[39;00m running:\n\u001b[0;32m      <a href='vscode-notebook-cell:/c%3A/Documenti/VS_Code/uni/AGT/stackelberg_MBRL/demo_env.ipynb#X21sZmlsZQ%3D%3D?line=3'>4</a>\u001b[0m     \u001b[39m# visualize maze\u001b[39;00m\n\u001b[1;32m----> <a href='vscode-notebook-cell:/c%3A/Documenti/VS_Code/uni/AGT/stackelberg_MBRL/demo_env.ipynb#X21sZmlsZQ%3D%3D?line=4'>5</a>\u001b[0m     pygame\u001b[39m.\u001b[39mevent\u001b[39m.\u001b[39mclear() \n\u001b[0;32m      <a href='vscode-notebook-cell:/c%3A/Documenti/VS_Code/uni/AGT/stackelberg_MBRL/demo_env.ipynb#X21sZmlsZQ%3D%3D?line=5'>6</a>\u001b[0m     event \u001b[39m=\u001b[39m pygame\u001b[39m.\u001b[39mevent\u001b[39m.\u001b[39mwait() \n\u001b[0;32m      <a href='vscode-notebook-cell:/c%3A/Documenti/VS_Code/uni/AGT/stackelberg_MBRL/demo_env.ipynb#X21sZmlsZQ%3D%3D?line=6'>7</a>\u001b[0m     \u001b[39m#maze.toggle_fullscreen()\u001b[39;00m\n",
      "\u001b[1;31mNameError\u001b[0m: name 'pygame' is not defined"
     ]
    }
   ],
   "source": [
    "running = True\n",
    "\n",
    "while running:\n",
    "    # visualize maze\n",
    "    pygame.event.clear() \n",
    "    event = pygame.event.wait() \n",
    "    #maze.toggle_fullscreen()\n",
    "\n",
    "    for event in pygame.event.get():\n",
    "        if event.type == pygame.QUIT:\n",
    "            # quit pygame event\n",
    "            running = False\n",
    "            pygame.quit()\n",
    "            exit()"
   ]
  },
  {
   "cell_type": "markdown",
   "metadata": {},
   "source": [
    "### make env"
   ]
  },
  {
   "cell_type": "code",
   "execution_count": 8,
   "metadata": {},
   "outputs": [
    {
     "ename": "TypeError",
     "evalue": "'SparseTensor' object is not subscriptable was raised from the environment creator for matrix_mdp/MatrixMDP-v0 with kwargs ({'p_0': array([0.16666667, 0.16666667, 0.16666667, 0.16666667, 0.16666667,\n       0.16666667]), 'p': SparseTensor(indices=tf.Tensor([[0 0 0]], shape=(1, 3), dtype=int64), values=tf.Tensor([0], shape=(1,), dtype=int32), dense_shape=tf.Tensor([6 6 4], shape=(3,), dtype=int64)), 'r': SparseTensor(indices=tf.Tensor([[0 0 0]], shape=(1, 3), dtype=int64), values=tf.Tensor([0], shape=(1,), dtype=int32), dense_shape=tf.Tensor([6 6 4], shape=(3,), dtype=int64)), 'render_mode': 'human'})",
     "output_type": "error",
     "traceback": [
      "\u001b[1;31m---------------------------------------------------------------------------\u001b[0m",
      "\u001b[1;31mTypeError\u001b[0m                                 Traceback (most recent call last)",
      "File \u001b[1;32mc:\\Users\\giuli\\anaconda3\\lib\\site-packages\\gymnasium\\envs\\registration.py:802\u001b[0m, in \u001b[0;36mmake\u001b[1;34m(id, max_episode_steps, autoreset, apply_api_compatibility, disable_env_checker, **kwargs)\u001b[0m\n\u001b[0;32m    801\u001b[0m \u001b[39mtry\u001b[39;00m:\n\u001b[1;32m--> 802\u001b[0m     env \u001b[39m=\u001b[39m env_creator(\u001b[39m*\u001b[39m\u001b[39m*\u001b[39menv_spec_kwargs)\n\u001b[0;32m    803\u001b[0m \u001b[39mexcept\u001b[39;00m \u001b[39mTypeError\u001b[39;00m \u001b[39mas\u001b[39;00m e:\n",
      "File \u001b[1;32mc:\\Users\\giuli\\anaconda3\\lib\\site-packages\\matrix_mdp\\envs\\matrix_mdp.py:81\u001b[0m, in \u001b[0;36mMatrixMDPEnv.__init__\u001b[1;34m(self, p_0, p, r, render_mode)\u001b[0m\n\u001b[0;32m     80\u001b[0m \u001b[39mfor\u001b[39;00m a \u001b[39min\u001b[39;00m np\u001b[39m.\u001b[39marange(\u001b[39mself\u001b[39m\u001b[39m.\u001b[39mp\u001b[39m.\u001b[39mshape[\u001b[39m2\u001b[39m]):\n\u001b[1;32m---> 81\u001b[0m     \u001b[39mif\u001b[39;00m p[:, s, a]\u001b[39m.\u001b[39msum() \u001b[39m!=\u001b[39m \u001b[39m0\u001b[39m \u001b[39mand\u001b[39;00m np\u001b[39m.\u001b[39maround(p[:, s, a]\u001b[39m.\u001b[39msum(), decimals\u001b[39m=\u001b[39m\u001b[39m6\u001b[39m) \u001b[39m!=\u001b[39m \u001b[39m1\u001b[39m:\n\u001b[0;32m     82\u001b[0m         \u001b[39mraise\u001b[39;00m \u001b[39mValueError\u001b[39;00m(\n\u001b[0;32m     83\u001b[0m             \u001b[39m\"\u001b[39m\u001b[39mThe provided transition probabilities are invalid: \u001b[39m\u001b[39m\\\u001b[39m\u001b[39msum_s\u001b[39m\u001b[39m'\u001b[39m\u001b[39m P(s\u001b[39m\u001b[39m'\u001b[39m\u001b[39m | s, a) not in \u001b[39m\u001b[39m{\u001b[39m\u001b[39m0, 1} \u001b[39m\u001b[39m\"\u001b[39m \u001b[39m+\u001b[39m\\\n\u001b[0;32m     84\u001b[0m             \u001b[39mf\u001b[39m\u001b[39m\"\u001b[39m\u001b[39mfor s=\u001b[39m\u001b[39m{\u001b[39;00ms\u001b[39m}\u001b[39;00m\u001b[39m and a=\u001b[39m\u001b[39m{\u001b[39;00ma\u001b[39m}\u001b[39;00m\u001b[39m.\u001b[39m\u001b[39m\"\u001b[39m\n\u001b[0;32m     85\u001b[0m         )\n",
      "\u001b[1;31mTypeError\u001b[0m: 'SparseTensor' object is not subscriptable",
      "\nDuring handling of the above exception, another exception occurred:\n",
      "\u001b[1;31mTypeError\u001b[0m                                 Traceback (most recent call last)",
      "\u001b[1;32mc:\\Documenti\\VS_Code\\uni\\AGT\\stackelberg_MBRL\\demo_env.ipynb Cell 4\u001b[0m line \u001b[0;36m1\n\u001b[1;32m----> <a href='vscode-notebook-cell:/c%3A/Documenti/VS_Code/uni/AGT/stackelberg_MBRL/demo_env.ipynb#W4sZmlsZQ%3D%3D?line=0'>1</a>\u001b[0m env \u001b[39m=\u001b[39m gym\u001b[39m.\u001b[39;49mmake(\u001b[39m'\u001b[39;49m\u001b[39mmatrix_mdp/MatrixMDP-v0\u001b[39;49m\u001b[39m'\u001b[39;49m, p_0\u001b[39m=\u001b[39;49mp_0, p\u001b[39m=\u001b[39;49mp, r\u001b[39m=\u001b[39;49mr, render_mode\u001b[39m=\u001b[39;49m\u001b[39m\"\u001b[39;49m\u001b[39mhuman\u001b[39;49m\u001b[39m\"\u001b[39;49m)\n\u001b[0;32m      <a href='vscode-notebook-cell:/c%3A/Documenti/VS_Code/uni/AGT/stackelberg_MBRL/demo_env.ipynb#W4sZmlsZQ%3D%3D?line=1'>2</a>\u001b[0m env\u001b[39m.\u001b[39mreset() \u001b[39m# reset the environment to the initial state (mandatory before take an action)\u001b[39;00m\n\u001b[0;32m      <a href='vscode-notebook-cell:/c%3A/Documenti/VS_Code/uni/AGT/stackelberg_MBRL/demo_env.ipynb#W4sZmlsZQ%3D%3D?line=2'>3</a>\u001b[0m \u001b[39mfor\u001b[39;00m i \u001b[39min\u001b[39;00m \u001b[39mrange\u001b[39m(\u001b[39m10\u001b[39m):\n\u001b[0;32m      <a href='vscode-notebook-cell:/c%3A/Documenti/VS_Code/uni/AGT/stackelberg_MBRL/demo_env.ipynb#W4sZmlsZQ%3D%3D?line=3'>4</a>\u001b[0m     \u001b[39m#env.render()\u001b[39;00m\n",
      "File \u001b[1;32mc:\\Users\\giuli\\anaconda3\\lib\\site-packages\\gymnasium\\envs\\registration.py:814\u001b[0m, in \u001b[0;36mmake\u001b[1;34m(id, max_episode_steps, autoreset, apply_api_compatibility, disable_env_checker, **kwargs)\u001b[0m\n\u001b[0;32m    808\u001b[0m         \u001b[39mraise\u001b[39;00m error\u001b[39m.\u001b[39mError(\n\u001b[0;32m    809\u001b[0m             \u001b[39mf\u001b[39m\u001b[39m\"\u001b[39m\u001b[39mYou passed render_mode=\u001b[39m\u001b[39m'\u001b[39m\u001b[39mhuman\u001b[39m\u001b[39m'\u001b[39m\u001b[39m although \u001b[39m\u001b[39m{\u001b[39;00menv_spec\u001b[39m.\u001b[39mid\u001b[39m}\u001b[39;00m\u001b[39m doesn\u001b[39m\u001b[39m'\u001b[39m\u001b[39mt implement human-rendering natively. \u001b[39m\u001b[39m\"\u001b[39m\n\u001b[0;32m    810\u001b[0m             \u001b[39m\"\u001b[39m\u001b[39mGym tried to apply the HumanRendering wrapper but it looks like your environment is using the old \u001b[39m\u001b[39m\"\u001b[39m\n\u001b[0;32m    811\u001b[0m             \u001b[39m\"\u001b[39m\u001b[39mrendering API, which is not supported by the HumanRendering wrapper.\u001b[39m\u001b[39m\"\u001b[39m\n\u001b[0;32m    812\u001b[0m         ) \u001b[39mfrom\u001b[39;00m \u001b[39me\u001b[39;00m\n\u001b[0;32m    813\u001b[0m     \u001b[39melse\u001b[39;00m:\n\u001b[1;32m--> 814\u001b[0m         \u001b[39mraise\u001b[39;00m \u001b[39mtype\u001b[39m(e)(\n\u001b[0;32m    815\u001b[0m             \u001b[39mf\u001b[39m\u001b[39m\"\u001b[39m\u001b[39m{\u001b[39;00me\u001b[39m}\u001b[39;00m\u001b[39m was raised from the environment creator for \u001b[39m\u001b[39m{\u001b[39;00menv_spec\u001b[39m.\u001b[39mid\u001b[39m}\u001b[39;00m\u001b[39m with kwargs (\u001b[39m\u001b[39m{\u001b[39;00menv_spec_kwargs\u001b[39m}\u001b[39;00m\u001b[39m)\u001b[39m\u001b[39m\"\u001b[39m\n\u001b[0;32m    816\u001b[0m         )\n\u001b[0;32m    818\u001b[0m \u001b[39m# Set the minimal env spec for the environment.\u001b[39;00m\n\u001b[0;32m    819\u001b[0m env\u001b[39m.\u001b[39munwrapped\u001b[39m.\u001b[39mspec \u001b[39m=\u001b[39m EnvSpec(\n\u001b[0;32m    820\u001b[0m     \u001b[39mid\u001b[39m\u001b[39m=\u001b[39menv_spec\u001b[39m.\u001b[39mid,\n\u001b[0;32m    821\u001b[0m     entry_point\u001b[39m=\u001b[39menv_spec\u001b[39m.\u001b[39mentry_point,\n\u001b[1;32m   (...)\u001b[0m\n\u001b[0;32m    831\u001b[0m     vector_entry_point\u001b[39m=\u001b[39menv_spec\u001b[39m.\u001b[39mvector_entry_point,\n\u001b[0;32m    832\u001b[0m )\n",
      "\u001b[1;31mTypeError\u001b[0m: 'SparseTensor' object is not subscriptable was raised from the environment creator for matrix_mdp/MatrixMDP-v0 with kwargs ({'p_0': array([0.16666667, 0.16666667, 0.16666667, 0.16666667, 0.16666667,\n       0.16666667]), 'p': SparseTensor(indices=tf.Tensor([[0 0 0]], shape=(1, 3), dtype=int64), values=tf.Tensor([0], shape=(1,), dtype=int32), dense_shape=tf.Tensor([6 6 4], shape=(3,), dtype=int64)), 'r': SparseTensor(indices=tf.Tensor([[0 0 0]], shape=(1, 3), dtype=int64), values=tf.Tensor([0], shape=(1,), dtype=int32), dense_shape=tf.Tensor([6 6 4], shape=(3,), dtype=int64)), 'render_mode': 'human'})"
     ]
    }
   ],
   "source": [
    "env = gym.make('matrix_mdp/MatrixMDP-v0', p_0=p_0, p=p, r=r, render_mode=\"human\")\n",
    "env.reset() # reset the environment to the initial state (mandatory before take an action)\n",
    "for i in range(10):\n",
    "    #env.render()\n",
    "    env.step(1)\n",
    "    print(env.state)"
   ]
  }
 ],
 "metadata": {
  "kernelspec": {
   "display_name": "base",
   "language": "python",
   "name": "python3"
  },
  "language_info": {
   "codemirror_mode": {
    "name": "ipython",
    "version": 3
   },
   "file_extension": ".py",
   "mimetype": "text/x-python",
   "name": "python",
   "nbconvert_exporter": "python",
   "pygments_lexer": "ipython3",
   "version": "3.10.9"
  }
 },
 "nbformat": 4,
 "nbformat_minor": 2
}
