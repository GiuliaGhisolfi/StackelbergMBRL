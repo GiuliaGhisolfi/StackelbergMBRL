{
 "cells": [
  {
   "cell_type": "code",
   "execution_count": 1,
   "metadata": {},
   "outputs": [],
   "source": [
    "import numpy as np\n",
    "import gymnasium as gym\n",
    "import matrix_mdp\n",
    "from tensorflow.sparse import SparseTensor as sparse"
   ]
  },
  {
   "cell_type": "markdown",
   "metadata": {},
   "source": [
    "### set param (default)\n",
    "n_states = 4\n",
    "\n",
    "n_actions = 2\n",
    "\n",
    "p_0 = np.ones((n_states, )) / n_states\n",
    "\n",
    "r = np.ones((n_states, n_states, n_actions))\n",
    "\n",
    "p = np.ones((n_states, n_states, n_actions)) / n_states"
   ]
  },
  {
   "cell_type": "code",
   "execution_count": 2,
   "metadata": {},
   "outputs": [],
   "source": [
    "n_states = 6 # states cardinality: walkable cells\n",
    "n_actions = 4 # actions cardinality: up, down, left, right\n",
    "\n",
    "p_0 = np.ones((n_states, )) / n_states # prior distribution\n",
    "p = sparse(indices=[(0,0,0)], values=[0], dense_shape=(n_states, n_states, n_actions)) # transition probability\n",
    "r = sparse(indices=[(0,0,0)], values=[0], dense_shape=(n_states, n_states, n_actions)) # reward function"
   ]
  },
  {
   "cell_type": "code",
   "execution_count": 3,
   "metadata": {},
   "outputs": [
    {
     "data": {
      "text/plain": [
       "SparseTensor(indices=tf.Tensor([[0 0 0]], shape=(1, 3), dtype=int64), values=tf.Tensor([0], shape=(1,), dtype=int32), dense_shape=tf.Tensor([6 6 4], shape=(3,), dtype=int64))"
      ]
     },
     "execution_count": 3,
     "metadata": {},
     "output_type": "execute_result"
    }
   ],
   "source": [
    "p"
   ]
  },
  {
   "cell_type": "markdown",
   "metadata": {},
   "source": [
    "### maze"
   ]
  },
  {
   "cell_type": "code",
   "execution_count": 4,
   "metadata": {},
   "outputs": [
    {
     "data": {
      "text/plain": [
       "array([ 61, 121], dtype=int64)"
      ]
     },
     "metadata": {},
     "output_type": "display_data"
    },
    {
     "data": {
      "text/plain": [
       "array([30, 60], dtype=int64)"
      ]
     },
     "metadata": {},
     "output_type": "display_data"
    },
    {
     "data": {
      "text/plain": [
       "(32, 62, 3)"
      ]
     },
     "metadata": {},
     "output_type": "display_data"
    }
   ],
   "source": [
    "from src.maze import Maze\n",
    "import pygame\n",
    "\n",
    "# parameters\n",
    "size_x = 60 # maze width\n",
    "size_y = 30 # maze height\n",
    "disp_size = (800, 600) # display size (pixels)\n",
    "block_size = 10  # block size in pixels\n",
    "screen = pygame.display.set_mode(disp_size)\n",
    "\n",
    "# initialize maze\n",
    "maze = Maze(size_x=size_x, size_y=size_y)\n",
    "\n",
    "# visualize settings\n",
    "maze.screen = screen\n",
    "screen.fill((0, 0, 0))\n",
    "maze.screen_size = np.asarray(disp_size)\n",
    "maze.screen_block_size = np.min(disp_size / np.asarray((size_x, size_y)))\n",
    "maze.screen_block_offset = (disp_size - maze.screen_block_size * np.flip(maze.block_size)) // 2\n",
    "\n",
    "# generate maze\n",
    "maze.gen_maze_2D() # + maze.gen_maze_walls()\n",
    "display(maze.block_size)\n",
    "display(maze.wall_size)\n",
    "display(maze.walls.shape)"
   ]
  },
  {
   "cell_type": "code",
   "execution_count": 5,
   "metadata": {},
   "outputs": [],
   "source": [
    "running = True\n",
    "\n",
    "while running:\n",
    "    # visualize maze\n",
    "    pygame.event.clear() \n",
    "    pygame.image.save(screen, 'images/maze.png')\n",
    "    event = pygame.event.wait() \n",
    "\n",
    "    for event in pygame.event.get():\n",
    "        if event.type == pygame.QUIT:\n",
    "            # quit pygame event\n",
    "            running = False\n",
    "            pygame.quit()\n",
    "            exit()"
   ]
  },
  {
   "cell_type": "code",
   "execution_count": 6,
   "metadata": {},
   "outputs": [
    {
     "data": {
      "image/png": "[encoded data removed]",
      "text/plain": [
       "<IPython.core.display.Image object>"
      ]
     },
     "execution_count": 6,
     "metadata": {
      "image/png": {
       "width": 400
      }
     },
     "output_type": "execute_result"
    }
   ],
   "source": [
    "# dispaly figure in 'maze.png'\n",
    "from IPython.display import Image\n",
    "Image(filename='images/maze.png', width=400)"
   ]
  },
  {
   "cell_type": "markdown",
   "metadata": {},
   "source": [
    "### make env"
   ]
  },
  {
   "cell_type": "code",
   "execution_count": 7,
   "metadata": {},
   "outputs": [
    {
     "data": {
      "text/plain": [
       "'\\nenv = gym.make(\\'matrix_mdp/MatrixMDP-v0\\', p_0=p_0, p=p, r=r, render_mode=\"human\")\\nenv.reset() # reset the environment to the initial state (mandatory before take an action)\\nfor i in range(10):\\n    #env.render()\\n    env.step(1)\\n    print(env.state)\\n'"
      ]
     },
     "execution_count": 7,
     "metadata": {},
     "output_type": "execute_result"
    },
    {
     "ename": "",
     "evalue": "",
     "output_type": "error",
     "traceback": [
      "\u001b[1;31mThe Kernel crashed while executing code in the the current cell or a previous cell. Please review the code in the cell(s) to identify a possible cause of the failure. Click <a href='https://aka.ms/vscodeJupyterKernelCrash'>here</a> for more info. View Jupyter <a href='command:jupyter.viewOutput'>log</a> for further details."
     ]
    }
   ],
   "source": [
    "\"\"\"\n",
    "env = gym.make('matrix_mdp/MatrixMDP-v0', p_0=p_0, p=p, r=r, render_mode=\"human\")\n",
    "env.reset() # reset the environment to the initial state (mandatory before take an action)\n",
    "for i in range(10):\n",
    "    #env.render()\n",
    "    env.step(1)\n",
    "    print(env.state)\n",
    "\"\"\""
   ]
  }
 ],
 "metadata": {
  "kernelspec": {
   "display_name": "base",
   "language": "python",
   "name": "python3"
  },
  "language_info": {
   "codemirror_mode": {
    "name": "ipython",
    "version": 3
   },
   "file_extension": ".py",
   "mimetype": "text/x-python",
   "name": "python",
   "nbconvert_exporter": "python",
   "pygments_lexer": "ipython3",
   "version": "3.10.9"
  }
 },
 "nbformat": 4,
 "nbformat_minor": 2
}
