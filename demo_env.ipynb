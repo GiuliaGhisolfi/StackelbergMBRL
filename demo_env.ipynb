{
 "cells": [
  {
   "cell_type": "code",
   "execution_count": 12,
   "metadata": {},
   "outputs": [],
   "source": [
    "import numpy as np\n",
    "import gymnasium as gym\n",
    "from tensorflow.sparse import SparseTensor as sparse\n"
   ]
  },
  {
   "cell_type": "code",
   "execution_count": 26,
   "metadata": {},
   "outputs": [],
   "source": [
    "n_states = 6 # states cardinality: walkable cells\n",
    "n_actions = 4 # actions cardinality: up, down, left, right\n",
    "\n",
    "p_0 = np.ones((n_states, )) / n_states # prior distribution\n",
    "p = sparse(indices=[(0,0,0)], values=[0], dense_shape=(n_states, n_states, n_actions)) # transition probability\n",
    "r = sparse(indices=[(0,0,0)], values=[0], dense_shape=(n_states, n_states, n_actions)) # reward function"
   ]
  },
  {
   "cell_type": "code",
   "execution_count": 27,
   "metadata": {},
   "outputs": [
    {
     "data": {
      "text/plain": [
       "<tf.Tensor: shape=(1,), dtype=int32, numpy=array([0])>"
      ]
     },
     "execution_count": 27,
     "metadata": {},
     "output_type": "execute_result"
    }
   ],
   "source": [
    "p.values"
   ]
  },
  {
   "cell_type": "code",
   "execution_count": null,
   "metadata": {},
   "outputs": [],
   "source": [
    "env = gym.make('matrix_mdp/MatrixMDP-v0', p_0=p_0, p=p, r=r)\n",
    "env.reset()\n",
    "print(env.step(0))"
   ]
  }
 ],
 "metadata": {
  "kernelspec": {
   "display_name": "base",
   "language": "python",
   "name": "python3"
  },
  "language_info": {
   "codemirror_mode": {
    "name": "ipython",
    "version": 3
   },
   "file_extension": ".py",
   "mimetype": "text/x-python",
   "name": "python",
   "nbconvert_exporter": "python",
   "pygments_lexer": "ipython3",
   "version": "3.10.9"
  }
 },
 "nbformat": 4,
 "nbformat_minor": 2
}
